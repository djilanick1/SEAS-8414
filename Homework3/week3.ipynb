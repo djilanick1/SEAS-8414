{
 "cells": [
  {
   "cell_type": "markdown",
   "id": "b28ed879",
   "metadata": {},
   "source": [
    "# XLMRat PCAP Malware Analysis Notebook"
   ]
  },
  {
   "cell_type": "markdown",
   "id": "760ff8e7",
   "metadata": {},
   "source": [
    "## 📥 Step 1: Load the PCAP File\n",
    "First, we'll use **Scapy** to load and parse the PCAP file, which contains network packets captured during a potential malware infection."
   ]
  },
  {
   "cell_type": "code",
   "execution_count": 3,
   "id": "369f1aa1",
   "metadata": {},
   "outputs": [
    {
     "name": "stdout",
     "output_type": "stream",
     "text": [
      "Total packets loaded: 1550\n"
     ]
    }
   ],
   "source": [
    "# Import necessary Scapy components\n",
    "from scapy.all import rdpcap, TCP, Raw, IP\n",
    "\n",
    "# Load the PCAP file\n",
    "packets = rdpcap('236-XLMRat.pcap')\n",
    "print(f\"Total packets loaded: {len(packets)}\")"
   ]
  },
  {
   "cell_type": "markdown",
   "id": "92158617",
   "metadata": {},
   "source": [
    "## 🌐 Step 2: Extract HTTP Requests\n",
    "We filter packets for HTTP GET or POST requests to identify URLs accessed by the infected machine. This helps pinpoint where the malware was downloaded from."
   ]
  },
  {
   "cell_type": "code",
   "execution_count": 4,
   "id": "cc1de9fc",
   "metadata": {},
   "outputs": [
    {
     "name": "stdout",
     "output_type": "stream",
     "text": [
      "🔗 URLs extracted from the PCAP:\n",
      "http://45.126.209.4:222/xlm.txt\n",
      "http://45.126.209.4:222/mdm.jpg\n"
     ]
    }
   ],
   "source": [
    "# Extract and reconstruct HTTP requests from TCP payloads\n",
    "http_requests = []\n",
    "for pkt in packets:\n",
    "    if pkt.haslayer(TCP) and pkt.haslayer(Raw):\n",
    "        try:\n",
    "            payload = pkt[Raw].load.decode('utf-8', errors='ignore')\n",
    "            if 'GET' in payload or 'POST' in payload:\n",
    "                lines = payload.splitlines()\n",
    "                method = lines[0] if lines else ''\n",
    "                host = next((line.split(':', 1)[1].strip() for line in lines if line.lower().startswith('host:')), '')\n",
    "                uri = method.split(' ')[1] if ' ' in method else ''\n",
    "                full_url = f\"http://{host}{uri}\"\n",
    "                http_requests.append(full_url)\n",
    "        except Exception:\n",
    "            continue\n",
    "\n",
    "print(\"🔗 URLs extracted from the PCAP:\")\n",
    "for url in http_requests:\n",
    "    print(url)"
   ]
  },
  {
   "cell_type": "markdown",
   "id": "89e8d66b",
   "metadata": {},
   "source": [
    "## 🛰️ Step 3: Determine Hosting Provider\n",
    "Now we take the host from the malicious URL and determine the IP address and hosting provider using `socket` and `requests`."
   ]
  },
  {
   "cell_type": "code",
   "execution_count": 5,
   "id": "4e5fdd84",
   "metadata": {},
   "outputs": [
    {
     "name": "stdout",
     "output_type": "stream",
     "text": [
      "IP Address: 45.126.209.4\n",
      "Hosting Provider: AS23470 ReliableSite.Net LLC\n"
     ]
    }
   ],
   "source": [
    "import socket\n",
    "import requests\n",
    "from urllib.parse import urlparse\n",
    "\n",
    "# Parse the IP address from the first suspicious URL\n",
    "target_url = http_requests[0]\n",
    "host = urlparse(target_url).hostname\n",
    "ip = socket.gethostbyname(host)\n",
    "\n",
    "# Query ipinfo.io to get hosting provider\n",
    "resp = requests.get(f\"https://ipinfo.io/{ip}/org\")\n",
    "print(f\"IP Address: {ip}\")\n",
    "print(f\"Hosting Provider: {resp.text.strip()}\")"
   ]
  },
  {
   "cell_type": "markdown",
   "id": "0e5221da-9ae9-40bf-9b49-ed6dd86be808",
   "metadata": {},
   "source": [
    "Question1: 1.\tBy analyzing the malicious scripts, two payloads were identified: a loader and a secondary executable. What is the SHA256 of the malware executable? (hint: SHA256 ends with \"d798\")\n",
    "\n",
    "\n",
    "\n",
    "Solution\n",
    "1- in Wireshark\n",
    "   - open 236-XLMRat.pcap\n",
    "   - then file > Export Objects > HTTP; save the 2 files revealed\n",
    "   - since the malware is in the mdm.jpg, follow the TCP stream from the source IP 10.1.9.101 that sent a GET with that file on HTTP: tcp.stream eq 1\n",
    "   - then save the payload into payload.txt\n",
    "2- in Linux\n",
    "   - upload the payload.txt\n",
    "   - then applt command $ cat payload.txt | tr -d '_' | xxd -r -p > payload.bin\n",
    "   - follow by command $ sha256sum payload.bin\n",
    "   - Result: 1eb7b02e18f67420f42b1d94e74f3b6289d92672a0fb1786c30c03d68e81d798\n"
   ]
  },
  {
   "attachments": {
    "ab41de0a-4160-46dd-82d8-2f5933072d0f.png": {
     "image/png": "[encoded data removed]"
    }
   },
   "cell_type": "markdown",
   "id": "0827037d-9e80-46c9-985f-448a80b4428f",
   "metadata": {},
   "source": [
    "Question2: What is the malware family label based on Alibaba?\n",
    "\n",
    "Solution:\n",
    "1- Create an account on virustotal and export an API KEY\n",
    "2- In Linux, Run the API request: $curl -X GET \"https://www.virustotal.com/api/v3/files/1eb7b02e18f67420f42b1d94e74f3b6289d92672a0fb1786c30c03d68e81d798\" \\\n",
    "     -H \"x-apikey: 2cb3e22ee2187d0e42d9798c0ca2e1ad20ce2dab3a11e464799ec8ae0fe5d690\"\n",
    "3- In Linux, install jq: $ sudo apt install jq\n",
    "4- then rerun: $ curl -s -X GET \"https://www.virustotal.com/api/v3/files/1eb7b02e18f67420f42b1d94e74f3b6289d92672a0fb1786c30c03d68e81d798\" \\\n",
    "  -H \"x-apikey: 2cb3e22ee2187d0e42d9798c0ca2e1ad20ce2dab3a11e464799ec8ae0fe5d690\" \\\n",
    "  | jq -r '.data.attributes.last_analysis_results.Alibaba.result'\n",
    "\n",
    "5- Result: Backdoor:MSIL/AsyncRat.a2786761\n",
    "\n",
    "The malware family label based on Alibaba is AsyncRat\n",
    "\n",
    "![image.png](attachment:ab41de0a-4160-46dd-82d8-2f5933072d0f.png)\n"
   ]
  },
  {
   "cell_type": "markdown",
   "id": "f8a2c234-163b-400e-b15b-7f638722b769",
   "metadata": {},
   "source": [
    "Question3: What is the timestamp of the malware's creation? (hint: YYYY-MM-DD hh:mm)\n",
    "\n",
    "Solution\n",
    "1- In Linux, run $ curl -s -X GET \"https://www.virustotal.com/api/v3/files/1eb7b02e18f67420f42b1d94e74f3b6289d92672a0fb1786c30c03d68e81d798\"   -H \"x-apikey: 2cb3e22ee2187d0e42d9798c0ca2e1ad20ce2dab3a11e464799ec8ae0fe5d690\"   | jq -r '.data.attributes.creation_date'   | xargs -I{} date -d @{} \"+%Y-%m-%d %H:%M\"\n",
    "\n",
    "2- Result: 2023-10-30 15:08\n",
    "\n",
    "Explanation\n",
    "\n",
    "\"jq -r '.data.attributes.creation_date' pulls the UNIX timestamp from the JSON.\n",
    "\n",
    "date -d @{} \"+%Y-%m-%d %H:%M\" converts it to human-readable format.\n",
    "\n",
    "\n"
   ]
  },
  {
   "cell_type": "markdown",
   "id": "0bebc7ad-f47f-48b3-a187-3bca5c8ec171",
   "metadata": {},
   "source": [
    "Question4: Which LOLBin is leveraged for stealthy process execution in this script? Provide the full path\n",
    "\n",
    "Solution\n",
    "1- in linux, run $tshark -r 236-XLMRat.pcap -qz follow,tcp,ascii,1 | grep \"exe\"\n",
    "2- result: $AC = $NA + 'osof#####t.NET\\Fra###mework\\v4.0.303###19\\R##egSvc#####s.exe'-replace  '#', ''\n",
    "set \"ps=powershell.exe\"\n",
    "\n",
    "3- Remove the #\n",
    "$ tshark -r 236-XLMRat.pcap -qz follow,tcp,ascii,1 | tr -d '#' | grep \"exe\"\n",
    "\n",
    "result: $AC = $NA + 'osoft.NET\\Framework\\v4.0.30319\\RegSvcs.exe'-replace  '', ''\n",
    "set \"ps=powershell.exe\"\n",
    "\n",
    "final: C:\\Windows\\Microsoft.NET\\Framework\\v4.0.30319\\RegSvcs.exe\n"
   ]
  },
  {
   "cell_type": "markdown",
   "id": "b7abbcd8-2c98-46c5-9c1b-3154c57ffd53",
   "metadata": {},
   "source": [
    "Question5: The script is designed to drop several files. List the names of the files dropped by the script. \n",
    "\n",
    "Solution: \n",
    "step 1: Bash script extract_dropped_files.sh that automate the process of looping all the TCP streams, extracting each stream as ASCII content, searching dropped file names, listing them.\n",
    "\n",
    "#!/bin/bash\n",
    "\n",
    "PCAP_FILE=\"236-XLMRat.pcap\"\n",
    "TEMP_STREAM=\"temp_stream.txt\"\n",
    "FOUND_FILES=\"dropped_files.txt\"\n",
    "\n",
    "# Clear output file if it exists\n",
    "> \"$FOUND_FILES\"\n",
    "\n",
    "# Get total number of TCP streams\n",
    "TOTAL_STREAMS=$(tshark -r \"$PCAP_FILE\" -T fields -e tcp.stream | sort -n | uniq | wc -l)\n",
    "\n",
    "echo \"[*] Total TCP streams found: $TOTAL_STREAMS\"\n",
    "echo \"[*] Scanning streams for dropped files...\"\n",
    "\n",
    "# Loop through each stream number\n",
    "for STREAM_NUM in $(seq 0 $((TOTAL_STREAMS - 1))); do\n",
    "    # Extract stream content\n",
    "    tshark -r \"$PCAP_FILE\" -qz follow,tcp,ascii,$STREAM_NUM > \"$TEMP_STREAM\"\n",
    "\n",
    "    # Extract file-looking strings (e.g., .exe, .bat, .dll, etc.)\n",
    "    grep -oEi '[a-zA-Z0-9_\\-\\\\/:]+\\.((exe)|(bat)|(dll)|(txt)|(dat)|(ps1)|(vbs)|(jpg)|(png)|(zip))' \"$TEMP_STREAM\" >> \"$FOUND_FILES\"\n",
    "done\n",
    "\n",
    "# Deduplicate results\n",
    "sort -u \"$FOUND_FILES\" > \"${FOUND_FILES}.unique\"\n",
    "\n",
    "echo \"Done. Dropped files found:\"\n",
    "cat \"${FOUND_FILES}.unique\"\n",
    "\n",
    "Step2: make the script executable: $chmod +x extract_dropped_files.sh\n",
    "\n",
    "Step3: run the script: ./extract_dropped_files.sh\n",
    "\n",
    "Step4: results\n",
    "[*] Total TCP streams found: 4\n",
    "[*] Scanning streams for dropped files...\n",
    "Done. Dropped files found:\n",
    "/mdm.jpg\n",
    "/xlm.txt\n",
    "C:\\Users\\Public\\Conted.bat\n",
    "C:\\Users\\Public\\Conted.ps1\n",
    "C:\\Users\\Public\\Conted.vbs\n",
    "Cmd.exe\n",
    "POWeRSHeLL.eXe\n",
    "nted.bat\n",
    "powershell.exe\n",
    "s.exe\n",
    "\n",
    "\n",
    "Final: Conted.bat, Conted.ps1, Conted.vbs\n"
   ]
  }
 ],
 "metadata": {
  "kernelspec": {
   "display_name": "Python 3 (ipykernel)",
   "language": "python",
   "name": "python3"
  },
  "language_info": {
   "codemirror_mode": {
    "name": "ipython",
    "version": 3
   },
   "file_extension": ".py",
   "mimetype": "text/x-python",
   "name": "python",
   "nbconvert_exporter": "python",
   "pygments_lexer": "ipython3",
   "version": "3.11.3"
  }
 },
 "nbformat": 4,
 "nbformat_minor": 5
}
